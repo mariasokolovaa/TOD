{
 "cells": [
  {
   "cell_type": "markdown",
   "metadata": {},
   "source": [
    "# Numpy"
   ]
  },
  {
   "cell_type": "markdown",
   "metadata": {},
   "source": [
    "Материалы:\n",
    "* Макрушин С.В. \"Лекция 1: Библиотека Numpy\"\n",
    "* https://numpy.org/doc/stable/user/index.html\n",
    "* https://numpy.org/doc/stable/reference/index.html"
   ]
  },
  {
   "cell_type": "code",
   "execution_count": 1,
   "metadata": {},
   "outputs": [
    {
     "ename": "SyntaxError",
     "evalue": "invalid syntax (3699362617.py, line 1)",
     "output_type": "error",
     "traceback": [
      "\u001b[1;36m  Input \u001b[1;32mIn [1]\u001b[1;36m\u001b[0m\n\u001b[1;33m    jupyter notebook --browser='C:/Program Files (x86)/Google/Chrome/Application/chrome.exe %s'C:\\ProgramData\\Microsoft\\Windows\\Start Menu\\Programs\u001b[0m\n\u001b[1;37m            ^\u001b[0m\n\u001b[1;31mSyntaxError\u001b[0m\u001b[1;31m:\u001b[0m invalid syntax\n"
     ]
    }
   ],
   "source": [
    "jupyter notebook --browser='C:/Program Files (x86)/Google/Chrome/Application/chrome.exe %s'C:\\ProgramData\\Microsoft\\Windows\\Start Menu\\Programs"
   ]
  },
  {
   "cell_type": "code",
   "execution_count": 2,
   "metadata": {},
   "outputs": [],
   "source": [
    "import numpy as np\n",
    "import pandas as pd"
   ]
  },
  {
   "cell_type": "markdown",
   "metadata": {},
   "source": [
    "## Задачи для совместного разбора"
   ]
  },
  {
   "cell_type": "markdown",
   "metadata": {},
   "source": [
    "1. Сгенерировать двухмерный массив `arr` размерности (4, 7), состоящий из случайных действительных чисел, равномерно распределенных в диапазоне от 0 до 20. Нормализовать значения массива с помощью преобразования вида  $𝑎𝑥+𝑏$  так, что после нормализации максимальный элемент масcива будет равен 1.0, минимальный 0.0"
   ]
  },
  {
   "cell_type": "code",
   "execution_count": 3,
   "metadata": {},
   "outputs": [
    {
     "data": {
      "text/plain": [
       "array([[ 6.55823399,  0.86802717, 18.07311209,  2.71014822,  0.97730908,\n",
       "         2.34988337,  3.74219711],\n",
       "       [11.96925491, 14.96143   ,  7.37760362,  0.12963659, 11.57533306,\n",
       "        14.53967401, 15.49868953],\n",
       "       [17.1748237 ,  3.65419308,  5.74628247,  8.14411885,  0.06093059,\n",
       "         2.55526962,  2.40704351],\n",
       "       [11.39551795, 15.90191759, 18.31018735, 10.81811085,  5.83562456,\n",
       "        13.18770217,  9.0410953 ]])"
      ]
     },
     "execution_count": 3,
     "metadata": {},
     "output_type": "execute_result"
    }
   ],
   "source": [
    "\n",
    "arr=np.random.rand(4,7)*20\n",
    "arr\n"
   ]
  },
  {
   "cell_type": "markdown",
   "metadata": {},
   "source": [
    "2. Создать матрицу 8 на 10 из случайных целых (используя модуль `numpy.random`) чисел из диапозона от 0 до 10 и найти в ней строку (ее индекс и вывести саму строку), в которой сумма значений минимальна."
   ]
  },
  {
   "cell_type": "code",
   "execution_count": 4,
   "metadata": {},
   "outputs": [
    {
     "name": "stdout",
     "output_type": "stream",
     "text": [
      "[63.73323401 21.98335187 59.5528911  54.34349778 42.26727532 50.30191981\n",
      " 75.95150053 48.62461379]\n",
      "(array([1], dtype=int64),)\n"
     ]
    }
   ],
   "source": [
    "a=np.random.rand(8,10)*10\n",
    "b=np.sum(a,axis=1)\n",
    "print(b)\n",
    "print(np.where(b==min(b)))"
   ]
  },
  {
   "cell_type": "code",
   "execution_count": 5,
   "metadata": {},
   "outputs": [
    {
     "name": "stdout",
     "output_type": "stream",
     "text": [
      "['8.63630107', '6.59171319', '7.20748295', '5.15759821', '4.46956498', '7.6494641', '0.1930845', '7.83360852', '8.47987613', '4.16339688']\n",
      "60.38209053\n"
     ]
    }
   ],
   "source": [
    "s='8.63630107 6.59171319 7.20748295 5.15759821 4.46956498 7.6494641 0.1930845 7.83360852 8.47987613 4.16339688'\n",
    "s1=s.split(' ')\n",
    "print(s1)\n",
    "s2=list(map(float,s1))\n",
    "print(sum(s2))"
   ]
  },
  {
   "cell_type": "markdown",
   "metadata": {},
   "source": [
    "3. Найти евклидово расстояние между двумя одномерными векторами одинаковой размерности."
   ]
  },
  {
   "cell_type": "code",
   "execution_count": 6,
   "metadata": {},
   "outputs": [
    {
     "data": {
      "text/plain": [
       "11.874342087037917"
      ]
     },
     "execution_count": 6,
     "metadata": {},
     "output_type": "execute_result"
    }
   ],
   "source": [
    "x=np.arange(0,18,2)\n",
    "y=np.arange(1,10,1)\n",
    "c=(np.sum((x-y)**2))**0.5\n",
    "c"
   ]
  },
  {
   "cell_type": "markdown",
   "metadata": {},
   "source": [
    "4. Решить матричное уравнение `A*X*B=-C` - найти матрицу `X`. Где `A = [[-1, 2, 4], [-3, 1, 2], [-3, 0, 1]]`, `B=[[3, -1], [2, 1]]`, `C=[[7, 21], [11, 8], [8, 4]]`.\n"
   ]
  },
  {
   "cell_type": "code",
   "execution_count": 7,
   "metadata": {},
   "outputs": [
    {
     "data": {
      "text/plain": [
       "array([[ 1.00000000e+00,  1.11022302e-15],\n",
       "       [-2.00000000e+00,  1.00000000e+00],\n",
       "       [ 3.00000000e+00, -4.00000000e+00]])"
      ]
     },
     "execution_count": 7,
     "metadata": {},
     "output_type": "execute_result"
    }
   ],
   "source": [
    "A =np.array([[-1, 2, 4], [-3, 1, 2], [-3, 0, 1]])\n",
    "B=np.array([[3, -1], [2, 1]])\n",
    "C=np.array([[7, 21], [11, 8], [8, 4]])\n",
    "np.linalg.inv(B),np.linalg.inv(A)\n",
    "x=np.linalg.inv(A)@(C*(-1))@np.linalg.inv(B)\n",
    "x"
   ]
  },
  {
   "cell_type": "markdown",
   "metadata": {},
   "source": [
    "## Лабораторная работа №1"
   ]
  },
  {
   "cell_type": "markdown",
   "metadata": {},
   "source": [
    "Замечание: при решении данных задач не подразумевается использования циклов или генераторов Python, если в задании не сказано обратного. Решение должно опираться на использования функционала библиотеки `numpy`."
   ]
  },
  {
   "cell_type": "markdown",
   "metadata": {},
   "source": [
    "1. Файл `minutes_n_ingredients.csv` содержит информацию об идентификаторе рецепта, времени его выполнения в минутах и количестве необходимых ингредиентов. Считайте данные из этого файла в виде массива `numpy` типа `int32`, используя `np.loadtxt`. Выведите на экран первые 5 строк массива."
   ]
  },
  {
   "cell_type": "code",
   "execution_count": 8,
   "metadata": {},
   "outputs": [
    {
     "data": {
      "text/plain": [
       "array([[127244,     60,     16],\n",
       "       [ 23891,     25,      7],\n",
       "       [ 94746,     10,      6],\n",
       "       ...,\n",
       "       [498432,     65,     15],\n",
       "       [370915,      5,      4],\n",
       "       [ 81993,    140,     14]])"
      ]
     },
     "execution_count": 8,
     "metadata": {},
     "output_type": "execute_result"
    }
   ],
   "source": [
    "import csv\n",
    "with open('minutes_n_ingredients.csv') as f:\n",
    "    f1=csv.reader(f,delimiter=',')\n",
    "    heading=next(f1)\n",
    "    file=np.loadtxt('minutes_n_ingredients.csv', delimiter=',',dtype='int32',skiprows=1)\n",
    "heading,file[:5]\n",
    "file"
   ]
  },
  {
   "cell_type": "markdown",
   "metadata": {},
   "source": [
    "2. Вычислите среднее значение, минимум, максимум и медиану по каждому из столбцов, кроме первого."
   ]
  },
  {
   "cell_type": "code",
   "execution_count": 9,
   "metadata": {},
   "outputs": [
    {
     "data": {
      "text/plain": [
       "array([40.,  9.])"
      ]
     },
     "execution_count": 9,
     "metadata": {},
     "output_type": "execute_result"
    }
   ],
   "source": [
    "s=file[:,1:].sum(axis=0)\n",
    "average_sum=s/file.shape[0]\n",
    "mini=np.min(file[:,1:],0)\n",
    "maxi=np.max(file[:,1:],0)\n",
    "median=np.median(file[:,1:],0)\n",
    "median"
   ]
  },
  {
   "cell_type": "markdown",
   "metadata": {},
   "source": [
    "3. Ограничьте сверху значения продолжительности выполнения рецепта значением квантиля $q_{0.75}$. "
   ]
  },
  {
   "cell_type": "code",
   "execution_count": 10,
   "metadata": {},
   "outputs": [
    {
     "data": {
      "text/plain": [
       "40.0"
      ]
     },
     "execution_count": 10,
     "metadata": {},
     "output_type": "execute_result"
    }
   ],
   "source": [
    "import numpy as np\n",
    "np.quantile(file[:,1], 0.5)"
   ]
  },
  {
   "cell_type": "markdown",
   "metadata": {},
   "source": [
    "4. Посчитайте, для скольких рецептов указана продолжительность, равная нулю. Замените для таких строк значение в данном столбце на 1."
   ]
  },
  {
   "cell_type": "code",
   "execution_count": 11,
   "metadata": {},
   "outputs": [],
   "source": [
    "k=file[file[:,1]==0]\n",
    "file1=file.copy()\n",
    "file1[file1==0]=1\n",
    "file1\n",
    "np.savetxt(\"file1.csv\", file1, delimiter=\",\")"
   ]
  },
  {
   "cell_type": "markdown",
   "metadata": {},
   "source": [
    "5. Посчитайте, сколько уникальных рецептов находится в датасете."
   ]
  },
  {
   "cell_type": "code",
   "execution_count": 12,
   "metadata": {},
   "outputs": [
    {
     "data": {
      "text/plain": [
       "656"
      ]
     },
     "execution_count": 12,
     "metadata": {},
     "output_type": "execute_result"
    }
   ],
   "source": [
    "new=np.unique(file[:,1:])\n",
    "new.shape[0]\n"
   ]
  },
  {
   "cell_type": "markdown",
   "metadata": {},
   "source": [
    "6. Сколько и каких различных значений кол-ва ингредиентов присутвует в рецептах из датасета?"
   ]
  },
  {
   "cell_type": "code",
   "execution_count": 13,
   "metadata": {},
   "outputs": [
    {
     "data": {
      "text/plain": [
       "(array([ 1,  2,  3,  4,  5,  6,  7,  8,  9, 10, 11, 12, 13, 14, 15, 16, 17,\n",
       "        18, 19, 20, 21, 22, 23, 24, 25, 26, 27, 28, 29, 30, 31, 32, 33, 34,\n",
       "        35, 37, 39]),\n",
       " 37)"
      ]
     },
     "execution_count": 13,
     "metadata": {},
     "output_type": "execute_result"
    }
   ],
   "source": [
    "new=np.unique(file[:,2])\n",
    "new,new.shape[0]"
   ]
  },
  {
   "cell_type": "markdown",
   "metadata": {},
   "source": [
    "7. Создайте версию массива, содержащую информацию только о рецептах, состоящих не более чем из 5 ингредиентов."
   ]
  },
  {
   "cell_type": "code",
   "execution_count": 14,
   "metadata": {},
   "outputs": [
    {
     "data": {
      "text/plain": [
       "(array([[446597,     15,      5],\n",
       "        [204134,      5,      3],\n",
       "        [ 25623,      6,      4],\n",
       "        ...,\n",
       "        [ 52088,     60,      5],\n",
       "        [128811,     15,      4],\n",
       "        [370915,      5,      4]]),\n",
       " 17262)"
      ]
     },
     "execution_count": 14,
     "metadata": {},
     "output_type": "execute_result"
    }
   ],
   "source": [
    "new_file=file[file[:,2]<=5]\n",
    "new_file,new_file.shape[0]"
   ]
  },
  {
   "cell_type": "markdown",
   "metadata": {},
   "source": [
    "8. Для каждого рецепта посчитайте, сколько в среднем ингредиентов приходится на одну минуту рецепта. Найдите максимальное значение этой величины для всего датасета"
   ]
  },
  {
   "cell_type": "code",
   "execution_count": 15,
   "metadata": {},
   "outputs": [
    {
     "name": "stderr",
     "output_type": "stream",
     "text": [
      "C:\\Users\\maria\\AppData\\Local\\Temp\\ipykernel_16432\\1532786431.py:1: RuntimeWarning: divide by zero encountered in true_divide\n",
      "  n=np.array(file[:,2]/file[:,1],dtype='int')\n"
     ]
    },
    {
     "data": {
      "text/plain": [
       "23"
      ]
     },
     "execution_count": 15,
     "metadata": {},
     "output_type": "execute_result"
    }
   ],
   "source": [
    "n=np.array(file[:,2]/file[:,1],dtype='int')\n",
    "np.max(n)"
   ]
  },
  {
   "cell_type": "markdown",
   "metadata": {},
   "source": [
    "9. Вычислите среднее количество ингредиентов для топ-100 рецептов с наибольшей продолжительностью"
   ]
  },
  {
   "cell_type": "code",
   "execution_count": 16,
   "metadata": {},
   "outputs": [
    {
     "data": {
      "text/plain": [
       "21518445.39"
      ]
     },
     "execution_count": 16,
     "metadata": {},
     "output_type": "execute_result"
    }
   ],
   "source": [
    "t=np.sort(file1, axis=-2).copy()\n",
    "np.sum(t[-100:,1],dtype='int64')/100"
   ]
  },
  {
   "cell_type": "markdown",
   "metadata": {},
   "source": [
    "10. Выберите случайным образом и выведите информацию о 10 различных рецептах"
   ]
  },
  {
   "cell_type": "code",
   "execution_count": 17,
   "metadata": {},
   "outputs": [
    {
     "name": "stdout",
     "output_type": "stream",
     "text": [
      "[49054  8930 20480 70822 39201 98330 66785 91929 71255 92351]\n"
     ]
    },
    {
     "data": {
      "text/plain": [
       "array([[303860,     55,      9],\n",
       "       [116806,     20,     14],\n",
       "       [154041,     15,      8],\n",
       "       [499357,     35,      9],\n",
       "       [ 21241,     25,      7],\n",
       "       [157832,      8,      5],\n",
       "       [ 19838,     35,      8],\n",
       "       [381525,     30,      9],\n",
       "       [  1975,      1,      3],\n",
       "       [470485,     20,      9]])"
      ]
     },
     "execution_count": 17,
     "metadata": {},
     "output_type": "execute_result"
    }
   ],
   "source": [
    "s=np.random.rand(10)*file1.shape[0]\n",
    "s=np.array(s,dtype=int)\n",
    "print(s)\n",
    "new=file1[s,:]\n",
    "new"
   ]
  },
  {
   "cell_type": "markdown",
   "metadata": {},
   "source": [
    "11. Выведите процент рецептов, кол-во ингредиентов в которых меньше среднего."
   ]
  },
  {
   "cell_type": "code",
   "execution_count": 18,
   "metadata": {},
   "outputs": [
    {
     "data": {
      "text/plain": [
       "'58.802 %'"
      ]
     },
     "execution_count": 18,
     "metadata": {},
     "output_type": "execute_result"
    }
   ],
   "source": [
    "average=np.sum(file1[:,-1])/file1.shape[0]\n",
    "average\n",
    "s=file1[file1[:,-1]<average]\n",
    "str(s.shape[0]/file1.shape[0]*100)+' %'"
   ]
  },
  {
   "cell_type": "markdown",
   "metadata": {},
   "source": [
    "12. Назовем \"простым\" такой рецепт, длительность выполнения которого не больше 20 минут и кол-во ингредиентов в котором не больше 5. Создайте версию датасета с дополнительным столбцом, значениями которого являются 1, если рецепт простой, и 0 в противном случае."
   ]
  },
  {
   "cell_type": "code",
   "execution_count": 19,
   "metadata": {},
   "outputs": [
    {
     "data": {
      "text/plain": [
       "array([[127244,     60,     16,      0],\n",
       "       [ 23891,     25,      7,      0],\n",
       "       [ 94746,     10,      6,      0],\n",
       "       ...,\n",
       "       [498432,     65,     15,      0],\n",
       "       [370915,      5,      4,      1],\n",
       "       [ 81993,    140,     14,      0]])"
      ]
     },
     "execution_count": 19,
     "metadata": {},
     "output_type": "execute_result"
    }
   ],
   "source": [
    "n=pd.DataFrame(file1,columns=heading)\n",
    "n['простой?'] = np.where((n['minutes'] <=20) & (n['n_ingredients'] <=5), 1, 0)\n",
    "\n",
    "n=n.to_numpy()\n",
    "n"
   ]
  },
  {
   "cell_type": "markdown",
   "metadata": {},
   "source": [
    "13. Выведите процент \"простых\" рецептов в датасете"
   ]
  },
  {
   "cell_type": "code",
   "execution_count": 23,
   "metadata": {},
   "outputs": [
    {
     "name": "stdout",
     "output_type": "stream",
     "text": [
      "6.333 %\n"
     ]
    }
   ],
   "source": [
    "s=file1[(file1[:,-1] <=20) & (file1[:,1] <=5)]\n",
    "print(f'{s.shape[0]/file1.shape[0]*100} %')"
   ]
  },
  {
   "cell_type": "markdown",
   "metadata": {},
   "source": [
    "14. Разделим рецепты на группы по следующему правилу. Назовем рецепты короткими, если их продолжительность составляет менее 10 минут; стандартными, если их продолжительность составляет более 10, но менее 20 минут; и длинными, если их продолжительность составляет не менее 20 минут. Создайте трехмерный массив, где нулевая ось отвечает за номер группы (короткий, стандартный или длинный рецепт), первая ось - за сам рецепт и вторая ось - за характеристики рецепта. Выберите максимальное количество рецептов из каждой группы таким образом, чтобы было возможно сформировать трехмерный массив. Выведите форму полученного массива."
   ]
  },
  {
   "cell_type": "code",
   "execution_count": 28,
   "metadata": {},
   "outputs": [
    {
     "data": {
      "text/plain": [
       "array([[127244,     60,     16],\n",
       "       [ 23891,     25,      7],\n",
       "       [ 94746,     10,      6],\n",
       "       ...,\n",
       "       [498432,     65,     15],\n",
       "       [370915,      5,      4],\n",
       "       [ 81993,    140,     14]])"
      ]
     },
     "execution_count": 28,
     "metadata": {},
     "output_type": "execute_result"
    }
   ],
   "source": [
    "# new=pd.DataFrame(file1,columns=heading)\n",
    "# # conditions = [(new['minutes'] <10), (10<=new['minutes']<20), (new['minutes']>=20)]\n",
    "# # choices = [1, 2, 3] #1- короткий рецепт, 2 - стандартный, 3 - длинный\n",
    "# # new['группа'] = np.select(conditions, choices)\n",
    "# new['группа'] = [1 if x <10 elif 10<=x<20 else  for x in df['Set']]\n",
    "file1"
   ]
  },
  {
   "cell_type": "code",
   "execution_count": 228,
   "metadata": {},
   "outputs": [
    {
     "data": {
      "text/plain": [
       "array([[[     1,      1,      1],\n",
       "        [     2,      2,      2],\n",
       "        [     3,      3,      3]],\n",
       "\n",
       "       [[ 67660, 366174, 204134],\n",
       "        [ 94746,  33941, 446597],\n",
       "        [127244,  23891, 157911]],\n",
       "\n",
       "       [[     6,      9,      3],\n",
       "        [     6,      9,      5],\n",
       "        [    16,      7,     14]]])"
      ]
     },
     "execution_count": 228,
     "metadata": {},
     "output_type": "execute_result"
    }
   ],
   "source": [
    "df = pd.DataFrame(file1,columns=heading)\n",
    "# print(df)\n",
    "conditions = [(df['minutes'] <10), (df['minutes'] >=10) & (df['minutes'] <20), (df['minutes'] >=20)]\n",
    "choices = [1, 2, 3]#1- короткий рецепт, 2 - стандартный, 3 - длинный\n",
    "df['group'] = np.select(conditions, choices)\n",
    "\n",
    "n1_1=df[df['group']==1]\n",
    "n1_2=df[df['group']==2]\n",
    "n1_3=df[df['group']==3]\n",
    "\n",
    "num=int((min((n1_1.shape[0],n1_2.shape[0],n1_3.shape[0])))**(1/3))\n",
    "gr1=n1_1[:3]['group'].to_numpy()\n",
    "gr2=n1_2[:3]['group'].to_numpy()\n",
    "gr3=n1_3[:3]['group'].to_numpy()\n",
    "r1=n1_1['id'][:3]\n",
    "r2=n1_2['id'][:3]\n",
    "r3=n1_3['id'][:3]\n",
    "\n",
    "inf_1=n1_1[['n_ingredients']][:3].to_numpy()\n",
    "\n",
    "inf_2=n1_2[['n_ingredients']][:3].to_numpy()\n",
    "inf_3=n1_3[['n_ingredients']][:3].to_numpy()\n",
    "d1=np.concatenate((gr1,gr2,gr3),axis=None)\n",
    "d2=np.concatenate((r1,r2,r3),axis=None)\n",
    "d3=np.concatenate((inf_1,inf_2,inf_3),axis=None)\n",
    "d=np.concatenate((d1,d2,d3),axis=None)\n",
    "d.reshape(3,3,3)\n",
    "# n2=df['id'].to_numpy()\n",
    "# n3=df.iloc[:,[1,2]].to_numpy()n1_1[:num]\n"
   ]
  },
  {
   "cell_type": "code",
   "execution_count": null,
   "metadata": {},
   "outputs": [],
   "source": []
  }
 ],
 "metadata": {
  "kernelspec": {
   "display_name": "Python 3 (ipykernel)",
   "language": "python",
   "name": "python3"
  },
  "language_info": {
   "codemirror_mode": {
    "name": "ipython",
    "version": 3
   },
   "file_extension": ".py",
   "mimetype": "text/x-python",
   "name": "python",
   "nbconvert_exporter": "python",
   "pygments_lexer": "ipython3",
   "version": "3.9.12"
  }
 },
 "nbformat": 4,
 "nbformat_minor": 4
}
