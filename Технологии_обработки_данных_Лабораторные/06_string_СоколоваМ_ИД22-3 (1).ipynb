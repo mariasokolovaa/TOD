{
 "cells": [
  {
   "cell_type": "markdown",
   "metadata": {},
   "source": [
    "# Работа со строковыми значениями"
   ]
  },
  {
   "cell_type": "markdown",
   "metadata": {},
   "source": [
    "__Автор задач: Блохин Н.В. (NVBlokhin@fa.ru)__\n",
    "\n",
    "Материалы:\n",
    "* Макрушин С.В. Лекция \"Работа со строковыми значениям\"\n",
    "* https://pyformat.info/\n",
    "* https://docs.python.org/3/library/re.html\n",
    "    * https://docs.python.org/3/library/re.html#flags\n",
    "    * https://docs.python.org/3/library/re.html#functions\n",
    "* https://pythonru.com/primery/primery-primeneniya-regulyarnyh-vyrazheniy-v-python\n",
    "* https://kanoki.org/2019/11/12/how-to-use-regex-in-pandas/\n",
    "* https://realpython.com/nltk-nlp-python/"
   ]
  },
  {
   "cell_type": "markdown",
   "metadata": {},
   "source": [
    "## Задачи для совместного разбора"
   ]
  },
  {
   "cell_type": "markdown",
   "metadata": {},
   "source": [
    "1. Вывести на экран данные из словаря `obj` построчно в виде `k = v`, задав формат таким образом, чтобы знак равенства оказался на одной и той же позиции во всех строках. Строковые литералы обернуть в кавычки."
   ]
  },
  {
   "cell_type": "code",
   "execution_count": 1,
   "metadata": {},
   "outputs": [
    {
     "name": "stdout",
     "output_type": "stream",
     "text": [
      "\"home_page\" = \"https://github.com/pypa/sampleproject\"\n",
      "\"keywords \" = \"sample setuptools development\"\n",
      "\" license \" = \"MIT\"\n"
     ]
    }
   ],
   "source": [
    "obj = {\n",
    "    \"home_page\": \"https://github.com/pypa/sampleproject\",\n",
    "    \"keywords\": \"sample setuptools development\",\n",
    "    \"license\": \"MIT\",\n",
    "}\n",
    "max_k = len(max(list(obj.keys()),key =len ))\n",
    "\n",
    "for k,v in obj.items():\n",
    "    print(f'\"{k:^{max_k}}\" = \"{v}\"')"
   ]
  },
  {
   "cell_type": "markdown",
   "metadata": {},
   "source": [
    "2. Написать регулярное выражение,которое позволит найти номера групп студентов."
   ]
  },
  {
   "cell_type": "code",
   "execution_count": 2,
   "metadata": {},
   "outputs": [
    {
     "name": "stdout",
     "output_type": "stream",
     "text": [
      "Номера групп студентов: 1, 48, 3.\n"
     ]
    }
   ],
   "source": [
    "import pandas as pd\n",
    "obj = pd.Series([\"Евгения гр.ПМ19-1\", \"Илья пм 20-48\", \"Анна 20-3\"])\n",
    "obj\n",
    "import re\n",
    "k = [re.findall(r'-[0-9]+', i)[0][1:] for i in obj]\n",
    "\n",
    "print(f'Номера групп студентов: {((\", \").join(k))}.')"
   ]
  },
  {
   "cell_type": "code",
   "execution_count": 3,
   "metadata": {},
   "outputs": [
    {
     "name": "stdout",
     "output_type": "stream",
     "text": [
      "1\n",
      "48\n",
      "3\n"
     ]
    }
   ],
   "source": [
    "e = re.compile(r'-[\\d]+')\n",
    "for i in obj:\n",
    "    print(e.findall(i)[0][1:])"
   ]
  },
  {
   "cell_type": "markdown",
   "metadata": {},
   "source": [
    "3. Разбейте текст формулировки задачи 2 на слова."
   ]
  },
  {
   "cell_type": "code",
   "execution_count": 4,
   "metadata": {},
   "outputs": [
    {
     "name": "stdout",
     "output_type": "stream",
     "text": [
      "Написать регулярное выражение,которое             /            позволит найти номера групп студентов.\n"
     ]
    }
   ],
   "source": [
    "line = 'Написать регулярное выражение,которое позволит найти номера групп студентов.'\n",
    "\n",
    "print(f'{line[:len(line)//2]:<50}/{line[len(line)//2:]:>50}')\n"
   ]
  },
  {
   "cell_type": "markdown",
   "metadata": {},
   "source": [
    "## Лабораторная работа 6"
   ]
  },
  {
   "cell_type": "markdown",
   "metadata": {},
   "source": [
    "### Форматирование строк"
   ]
  },
  {
   "cell_type": "markdown",
   "metadata": {},
   "source": [
    "1\\. Загрузите данные из файла `recipes_sample.csv` (__ЛР2__) в виде `pd.DataFrame` `recipes` При помощи форматирования строк выведите информацию об id рецепта и времени выполнения 5 случайных рецептов в виде таблицы следующего вида:\n",
    "\n",
    "    \n",
    "    |      id      |  minutes  |\n",
    "    |--------------------------|\n",
    "    |    61178     |    65     |\n",
    "    |    202352    |    80     |\n",
    "    |    364322    |    150    |\n",
    "    |    26177     |    20     |\n",
    "    |    224785    |    35     |\n",
    "    \n",
    "Обратите внимание, что ширина столбцов заранее неизвестна и должна рассчитываться динамически, в зависимости от тех данных, которые были выбраны. "
   ]
  },
  {
   "cell_type": "code",
   "execution_count": 5,
   "metadata": {},
   "outputs": [
    {
     "name": "stdout",
     "output_type": "stream",
     "text": [
      "|     id     |   minutes  |\n",
      "|------------|------------|\n",
      "|   422167   |     45     |\n",
      "|   246902   |     60     |\n",
      "|   12534    |     30     |\n",
      "|   87870    |     65     |\n",
      "|   134829   |     30     |\n"
     ]
    }
   ],
   "source": [
    "recipes = pd.read_csv('recipes_sample.csv')\n",
    "random_recipes = recipes.sample(5)\n",
    "\n",
    "len_id = len(str(max(recipes.id)))+6\n",
    "len_min = len(str(max(recipes.minutes)))+6\n",
    "\n",
    "\n",
    "print(f\"|{'id':^{len_id}}|{' minutes':^{len_min}}|\")\n",
    "print(f\"|{'-' * len_id:^{len_id}}|{'-' * len_min:^{len_min}}|\")\n",
    "\n",
    "for i in range(len(random_recipes)): \n",
    "    print(f\"|{random_recipes.iloc[i]['id']:^{len_id}}|{ random_recipes.iloc[i]['minutes']:^{len_min}}|\")\n",
    "   "
   ]
  },
  {
   "cell_type": "markdown",
   "metadata": {},
   "source": [
    "2\\. Напишите функцию `show_info`, которая по данным о рецепте создает строку (в смысле объекта python) с описанием следующего вида:\n",
    "\n",
    "```\n",
    "\"Название Из Нескольких Слов\"\n",
    "\n",
    "1. Шаг 1\n",
    "2. Шаг 2\n",
    "----------\n",
    "Автор: contributor_id\n",
    "Среднее время приготовления: minutes минут\n",
    "```\n",
    "\n",
    "    \n",
    "Данные для создания строки получите из файлов `recipes_sample.csv` (__ЛР2__) и `steps_sample.xml` (__ЛР3__). \n",
    "Вызовите данную функцию для рецепта с id `170895` и выведите (через `print`) полученную строку на экран."
   ]
  },
  {
   "cell_type": "code",
   "execution_count": 6,
   "metadata": {},
   "outputs": [
    {
     "data": {
      "text/html": [
       "<div>\n",
       "<style scoped>\n",
       "    .dataframe tbody tr th:only-of-type {\n",
       "        vertical-align: middle;\n",
       "    }\n",
       "\n",
       "    .dataframe tbody tr th {\n",
       "        vertical-align: top;\n",
       "    }\n",
       "\n",
       "    .dataframe thead th {\n",
       "        text-align: right;\n",
       "    }\n",
       "</style>\n",
       "<table border=\"1\" class=\"dataframe\">\n",
       "  <thead>\n",
       "    <tr style=\"text-align: right;\">\n",
       "      <th></th>\n",
       "      <th>name</th>\n",
       "      <th>id</th>\n",
       "      <th>minutes</th>\n",
       "      <th>contributor_id</th>\n",
       "      <th>submitted</th>\n",
       "      <th>n_steps</th>\n",
       "      <th>description</th>\n",
       "      <th>n_ingredients</th>\n",
       "      <th>steps</th>\n",
       "    </tr>\n",
       "  </thead>\n",
       "  <tbody>\n",
       "    <tr>\n",
       "      <th>0</th>\n",
       "      <td>george s at the cove  black bean soup</td>\n",
       "      <td>44123</td>\n",
       "      <td>90</td>\n",
       "      <td>35193</td>\n",
       "      <td>2002-10-25</td>\n",
       "      <td>NaN</td>\n",
       "      <td>an original recipe created by chef scott meska...</td>\n",
       "      <td>18.0</td>\n",
       "      <td>[in 1 / 4 cup butter ,  saute carrots ,  onion...</td>\n",
       "    </tr>\n",
       "    <tr>\n",
       "      <th>1</th>\n",
       "      <td>healthy for them  yogurt popsicles</td>\n",
       "      <td>67664</td>\n",
       "      <td>10</td>\n",
       "      <td>91970</td>\n",
       "      <td>2003-07-26</td>\n",
       "      <td>NaN</td>\n",
       "      <td>my children and their friends ask for my homem...</td>\n",
       "      <td>NaN</td>\n",
       "      <td>[mix all the ingredients using a blender, pour...</td>\n",
       "    </tr>\n",
       "    <tr>\n",
       "      <th>2</th>\n",
       "      <td>i can t believe it s spinach</td>\n",
       "      <td>38798</td>\n",
       "      <td>30</td>\n",
       "      <td>1533</td>\n",
       "      <td>2002-08-29</td>\n",
       "      <td>NaN</td>\n",
       "      <td>these were so go, it surprised even me.</td>\n",
       "      <td>8.0</td>\n",
       "      <td>[combine all ingredients in a large bowl and m...</td>\n",
       "    </tr>\n",
       "    <tr>\n",
       "      <th>3</th>\n",
       "      <td>italian  gut busters</td>\n",
       "      <td>35173</td>\n",
       "      <td>45</td>\n",
       "      <td>22724</td>\n",
       "      <td>2002-07-27</td>\n",
       "      <td>NaN</td>\n",
       "      <td>my sister-in-law made these for us at a family...</td>\n",
       "      <td>NaN</td>\n",
       "      <td>[lay out sandwich rolls on jelly roll pans / c...</td>\n",
       "    </tr>\n",
       "    <tr>\n",
       "      <th>4</th>\n",
       "      <td>love is in the air  beef fondue   sauces</td>\n",
       "      <td>84797</td>\n",
       "      <td>25</td>\n",
       "      <td>4470</td>\n",
       "      <td>2004-02-23</td>\n",
       "      <td>4.0</td>\n",
       "      <td>i think a fondue is a very romantic casual din...</td>\n",
       "      <td>NaN</td>\n",
       "      <td>[honey mustard sauce: whisk all the ingredient...</td>\n",
       "    </tr>\n",
       "    <tr>\n",
       "      <th>...</th>\n",
       "      <td>...</td>\n",
       "      <td>...</td>\n",
       "      <td>...</td>\n",
       "      <td>...</td>\n",
       "      <td>...</td>\n",
       "      <td>...</td>\n",
       "      <td>...</td>\n",
       "      <td>...</td>\n",
       "      <td>...</td>\n",
       "    </tr>\n",
       "    <tr>\n",
       "      <th>29995</th>\n",
       "      <td>zurie s holey rustic olive and cheddar bread</td>\n",
       "      <td>267661</td>\n",
       "      <td>80</td>\n",
       "      <td>200862</td>\n",
       "      <td>2007-11-25</td>\n",
       "      <td>16.0</td>\n",
       "      <td>this is based on a french recipe but i changed...</td>\n",
       "      <td>10.0</td>\n",
       "      <td>[grease a bread tin very well with butter, min...</td>\n",
       "    </tr>\n",
       "    <tr>\n",
       "      <th>29996</th>\n",
       "      <td>zwetschgenkuchen  bavarian plum cake</td>\n",
       "      <td>386977</td>\n",
       "      <td>240</td>\n",
       "      <td>177443</td>\n",
       "      <td>2009-08-24</td>\n",
       "      <td>NaN</td>\n",
       "      <td>this is a traditional fresh plum cake, thought...</td>\n",
       "      <td>11.0</td>\n",
       "      <td>[in a small bowl ,  combine the yeast and half...</td>\n",
       "    </tr>\n",
       "    <tr>\n",
       "      <th>29997</th>\n",
       "      <td>zwiebelkuchen   southwest german onion cake</td>\n",
       "      <td>103312</td>\n",
       "      <td>75</td>\n",
       "      <td>161745</td>\n",
       "      <td>2004-11-03</td>\n",
       "      <td>NaN</td>\n",
       "      <td>this is a traditional late summer early fall s...</td>\n",
       "      <td>NaN</td>\n",
       "      <td>[for the dough:, dissolve the yeast in the luk...</td>\n",
       "    </tr>\n",
       "    <tr>\n",
       "      <th>29998</th>\n",
       "      <td>zydeco soup</td>\n",
       "      <td>486161</td>\n",
       "      <td>60</td>\n",
       "      <td>227978</td>\n",
       "      <td>2012-08-29</td>\n",
       "      <td>NaN</td>\n",
       "      <td>this is a delicious soup that i originally fou...</td>\n",
       "      <td>NaN</td>\n",
       "      <td>[heat oil in a 4-quart dutch oven, add celery ...</td>\n",
       "    </tr>\n",
       "    <tr>\n",
       "      <th>29999</th>\n",
       "      <td>cookies by design   cookies on a stick</td>\n",
       "      <td>298512</td>\n",
       "      <td>29</td>\n",
       "      <td>506822</td>\n",
       "      <td>2008-04-15</td>\n",
       "      <td>9.0</td>\n",
       "      <td>i've heard of the 'cookies by design' company,...</td>\n",
       "      <td>10.0</td>\n",
       "      <td>[place melted butter in a large mixing bowl an...</td>\n",
       "    </tr>\n",
       "  </tbody>\n",
       "</table>\n",
       "<p>30000 rows × 9 columns</p>\n",
       "</div>"
      ],
      "text/plain": [
       "                                               name      id  minutes  \\\n",
       "0             george s at the cove  black bean soup   44123       90   \n",
       "1                healthy for them  yogurt popsicles   67664       10   \n",
       "2                      i can t believe it s spinach   38798       30   \n",
       "3                              italian  gut busters   35173       45   \n",
       "4          love is in the air  beef fondue   sauces   84797       25   \n",
       "...                                             ...     ...      ...   \n",
       "29995  zurie s holey rustic olive and cheddar bread  267661       80   \n",
       "29996          zwetschgenkuchen  bavarian plum cake  386977      240   \n",
       "29997   zwiebelkuchen   southwest german onion cake  103312       75   \n",
       "29998                                   zydeco soup  486161       60   \n",
       "29999        cookies by design   cookies on a stick  298512       29   \n",
       "\n",
       "       contributor_id   submitted  n_steps  \\\n",
       "0               35193  2002-10-25      NaN   \n",
       "1               91970  2003-07-26      NaN   \n",
       "2                1533  2002-08-29      NaN   \n",
       "3               22724  2002-07-27      NaN   \n",
       "4                4470  2004-02-23      4.0   \n",
       "...               ...         ...      ...   \n",
       "29995          200862  2007-11-25     16.0   \n",
       "29996          177443  2009-08-24      NaN   \n",
       "29997          161745  2004-11-03      NaN   \n",
       "29998          227978  2012-08-29      NaN   \n",
       "29999          506822  2008-04-15      9.0   \n",
       "\n",
       "                                             description  n_ingredients  \\\n",
       "0      an original recipe created by chef scott meska...           18.0   \n",
       "1      my children and their friends ask for my homem...            NaN   \n",
       "2                these were so go, it surprised even me.            8.0   \n",
       "3      my sister-in-law made these for us at a family...            NaN   \n",
       "4      i think a fondue is a very romantic casual din...            NaN   \n",
       "...                                                  ...            ...   \n",
       "29995  this is based on a french recipe but i changed...           10.0   \n",
       "29996  this is a traditional fresh plum cake, thought...           11.0   \n",
       "29997  this is a traditional late summer early fall s...            NaN   \n",
       "29998  this is a delicious soup that i originally fou...            NaN   \n",
       "29999  i've heard of the 'cookies by design' company,...           10.0   \n",
       "\n",
       "                                                   steps  \n",
       "0      [in 1 / 4 cup butter ,  saute carrots ,  onion...  \n",
       "1      [mix all the ingredients using a blender, pour...  \n",
       "2      [combine all ingredients in a large bowl and m...  \n",
       "3      [lay out sandwich rolls on jelly roll pans / c...  \n",
       "4      [honey mustard sauce: whisk all the ingredient...  \n",
       "...                                                  ...  \n",
       "29995  [grease a bread tin very well with butter, min...  \n",
       "29996  [in a small bowl ,  combine the yeast and half...  \n",
       "29997  [for the dough:, dissolve the yeast in the luk...  \n",
       "29998  [heat oil in a 4-quart dutch oven, add celery ...  \n",
       "29999  [place melted butter in a large mixing bowl an...  \n",
       "\n",
       "[30000 rows x 9 columns]"
      ]
     },
     "execution_count": 6,
     "metadata": {},
     "output_type": "execute_result"
    }
   ],
   "source": [
    "from bs4 import BeautifulSoup\n",
    "with open('steps_sample.xml') as f:\n",
    "    file = BeautifulSoup(f, 'xml')\n",
    "    \n",
    "n_id=file.find_all('id')\n",
    "steps=file.find_all('steps')\n",
    "\n",
    "d3_1={}\n",
    "\n",
    "for i in range(len(n_id)):\n",
    "    d3_1[n_id[i].getText(strip=True)]=(steps[i].getText(',',strip=True)).split(',')\n",
    "d3_1\n",
    "df = pd.DataFrame({'id':d3_1.keys(),'steps':d3_1.values()})\n",
    "df['id']=df['id'].astype(int)\n",
    "x = pd.merge(recipes,df, how ='inner')\n",
    "x"
   ]
  },
  {
   "cell_type": "markdown",
   "metadata": {},
   "source": [
    "\"Название Из Нескольких Слов\"\n",
    "\n",
    "1. Шаг 1\n",
    "2. Шаг 2\n",
    "----------\n",
    "Автор: contributor_id\n",
    "Среднее время приготовления: minutes минут"
   ]
  },
  {
   "cell_type": "code",
   "execution_count": 7,
   "metadata": {},
   "outputs": [
    {
     "name": "stdout",
     "output_type": "stream",
     "text": [
      "\"Leeks And Parsnips  Sauteed Or Creamed\"\n",
      "\n",
      "\n",
      "1. Clean the leeks and discard the dark green portions\n",
      "\n",
      "2. Cut the leeks lengthwise then into one-inch pieces\n",
      "\n",
      "3. Melt the butter in a medium skillet \n",
      "\n",
      "4.  med\n",
      "\n",
      "5. Heat\n",
      "\n",
      "6. Add the garlic and fry 'til fragrant\n",
      "\n",
      "7. Add leeks and fry until the leeks are tender \n",
      "\n",
      "8.  about 6-minutes\n",
      "\n",
      "9. Meanwhile \n",
      "\n",
      "10.  peel and chunk the parsnips into one-inch pieces\n",
      "\n",
      "11. Place in a steaming basket and steam 'til they are as tender as you prefer\n",
      "\n",
      "12. I like them fork-tender\n",
      "\n",
      "13. Drain parsnips and add to the skillet with the leeks\n",
      "\n",
      "14. Add salt and pepper\n",
      "\n",
      "15. Gently sautee together for 5-minutes\n",
      "\n",
      "16. At this point you can serve it \n",
      "\n",
      "17.  or continue on and cream it:\n",
      "\n",
      "18. In a jar with a screw top \n",
      "\n",
      "19.  add the half-n-half and arrowroot\n",
      "\n",
      "20. Shake 'til blended\n",
      "\n",
      "21. Turn heat to low under the leeks and parsnips\n",
      "\n",
      "22. Pour in the arrowroot mixture \n",
      "\n",
      "23.  stirring gently as you pour\n",
      "\n",
      "24. If too thick \n",
      "\n",
      "25.  gradually add the water\n",
      "\n",
      "26. Let simmer for a couple of minutes\n",
      "\n",
      "27. Taste to adjust seasoning \n",
      "\n",
      "28.  probably an additional 1 / 2 teaspoon salt\n",
      "\n",
      "29. Serve warm\n",
      "----------\n",
      "Автор: 8377\n",
      "Среднее время приготовления: 27 минут\n"
     ]
    }
   ],
   "source": [
    "\n",
    "def show_info(n_id):\n",
    "    n = x[x['id'] == n_id]\n",
    "    s = f'\"{str(n.name.values[0]).title()}\"\\n\\n'\n",
    "    nl='\\n'\n",
    "    s+=nl.join([f'\\n{i+1}. {(list(n.steps.values)[0][i]).capitalize()}' for i in range(0,len(list(n.steps.values)[0])) ])\n",
    "    s+=f'\\n{\"-\"*10}\\nАвтор: {n.contributor_id.values[0]}\\nСреднее время приготовления: {n.minutes.values[0]} минут'\n",
    "    print(s)\n",
    "show_info(170895)    "
   ]
  },
  {
   "cell_type": "markdown",
   "metadata": {},
   "source": [
    "## Работа с регулярными выражениями"
   ]
  },
  {
   "cell_type": "markdown",
   "metadata": {},
   "source": [
    "3\\. Напишите регулярное выражение, которое ищет следующий паттерн в строке: число (1 цифра или более), затем пробел, затем слова: hour или hours или minute или minutes. Произведите поиск по данному регулярному выражению в каждом шаге рецепта с id 25082. Выведите на экран все непустые результаты, найденные по данному шаблону."
   ]
  },
  {
   "cell_type": "code",
   "execution_count": 9,
   "metadata": {},
   "outputs": [
    {
     "name": "stdout",
     "output_type": "stream",
     "text": [
      "20 minute\n",
      "10 minute\n",
      "2 hour\n",
      "10 minute\n",
      "20 minute\n",
      "30 minute\n"
     ]
    }
   ],
   "source": [
    "s = df[df['id']==25082]\n",
    "    \n",
    "q = list(s['steps'].values)[0]\n",
    "q = ('').join(q)\n",
    "\n",
    "f = re.findall(r\"(\\d+)\\s(hour|hours|minute|minutes)\", q)\n",
    "\n",
    "for i in f:\n",
    "    print(i[0],i[1])"
   ]
  },
  {
   "cell_type": "markdown",
   "metadata": {},
   "source": [
    "4\\. Напишите регулярное выражение, которое ищет шаблон вида \"this..., but\" _в начале строки_ . Между словом \"this\" и частью \", but\" может находиться произвольное число букв, цифр, знаков подчеркивания и пробелов. Никаких других символов вместо многоточия быть не может. Пробел между запятой и словом \"but\" может присутствовать или отсутствовать.\n",
    "\n",
    "Используя строковые методы `pd.Series`, выясните, для каких рецептов данный шаблон содержится в тексте описания. Выведите на экран количество таких рецептов и 3 примера подходящих описаний (текст описания должен быть виден на экране полностью)."
   ]
  },
  {
   "cell_type": "code",
   "execution_count": 10,
   "metadata": {},
   "outputs": [
    {
     "data": {
      "text/html": [
       "<div>\n",
       "<style scoped>\n",
       "    .dataframe tbody tr th:only-of-type {\n",
       "        vertical-align: middle;\n",
       "    }\n",
       "\n",
       "    .dataframe tbody tr th {\n",
       "        vertical-align: top;\n",
       "    }\n",
       "\n",
       "    .dataframe thead th {\n",
       "        text-align: right;\n",
       "    }\n",
       "</style>\n",
       "<table border=\"1\" class=\"dataframe\">\n",
       "  <thead>\n",
       "    <tr style=\"text-align: right;\">\n",
       "      <th></th>\n",
       "      <th>name</th>\n",
       "      <th>id</th>\n",
       "      <th>minutes</th>\n",
       "      <th>contributor_id</th>\n",
       "      <th>submitted</th>\n",
       "      <th>n_steps</th>\n",
       "      <th>description</th>\n",
       "      <th>n_ingredients</th>\n",
       "      <th>steps</th>\n",
       "    </tr>\n",
       "  </thead>\n",
       "  <tbody>\n",
       "    <tr>\n",
       "      <th>0</th>\n",
       "      <td>george s at the cove  black bean soup</td>\n",
       "      <td>44123</td>\n",
       "      <td>90</td>\n",
       "      <td>35193</td>\n",
       "      <td>2002-10-25</td>\n",
       "      <td>NaN</td>\n",
       "      <td>['in 1 / 4 cup butter ', ' saute carrots ', ' ...</td>\n",
       "      <td>18.0</td>\n",
       "      <td>[in 1 / 4 cup butter ,  saute carrots ,  onion...</td>\n",
       "    </tr>\n",
       "    <tr>\n",
       "      <th>1</th>\n",
       "      <td>healthy for them  yogurt popsicles</td>\n",
       "      <td>67664</td>\n",
       "      <td>10</td>\n",
       "      <td>91970</td>\n",
       "      <td>2003-07-26</td>\n",
       "      <td>NaN</td>\n",
       "      <td>['mix all the ingredients using a blender', 'p...</td>\n",
       "      <td>NaN</td>\n",
       "      <td>[mix all the ingredients using a blender, pour...</td>\n",
       "    </tr>\n",
       "    <tr>\n",
       "      <th>2</th>\n",
       "      <td>i can t believe it s spinach</td>\n",
       "      <td>38798</td>\n",
       "      <td>30</td>\n",
       "      <td>1533</td>\n",
       "      <td>2002-08-29</td>\n",
       "      <td>NaN</td>\n",
       "      <td>['combine all ingredients in a large bowl and ...</td>\n",
       "      <td>8.0</td>\n",
       "      <td>[combine all ingredients in a large bowl and m...</td>\n",
       "    </tr>\n",
       "    <tr>\n",
       "      <th>3</th>\n",
       "      <td>italian  gut busters</td>\n",
       "      <td>35173</td>\n",
       "      <td>45</td>\n",
       "      <td>22724</td>\n",
       "      <td>2002-07-27</td>\n",
       "      <td>NaN</td>\n",
       "      <td>['lay out sandwich rolls on jelly roll pans / ...</td>\n",
       "      <td>NaN</td>\n",
       "      <td>[lay out sandwich rolls on jelly roll pans / c...</td>\n",
       "    </tr>\n",
       "    <tr>\n",
       "      <th>4</th>\n",
       "      <td>love is in the air  beef fondue   sauces</td>\n",
       "      <td>84797</td>\n",
       "      <td>25</td>\n",
       "      <td>4470</td>\n",
       "      <td>2004-02-23</td>\n",
       "      <td>4.0</td>\n",
       "      <td>['honey mustard sauce: whisk all the ingredien...</td>\n",
       "      <td>NaN</td>\n",
       "      <td>[honey mustard sauce: whisk all the ingredient...</td>\n",
       "    </tr>\n",
       "    <tr>\n",
       "      <th>...</th>\n",
       "      <td>...</td>\n",
       "      <td>...</td>\n",
       "      <td>...</td>\n",
       "      <td>...</td>\n",
       "      <td>...</td>\n",
       "      <td>...</td>\n",
       "      <td>...</td>\n",
       "      <td>...</td>\n",
       "      <td>...</td>\n",
       "    </tr>\n",
       "    <tr>\n",
       "      <th>29995</th>\n",
       "      <td>zurie s holey rustic olive and cheddar bread</td>\n",
       "      <td>267661</td>\n",
       "      <td>80</td>\n",
       "      <td>200862</td>\n",
       "      <td>2007-11-25</td>\n",
       "      <td>16.0</td>\n",
       "      <td>['grease a bread tin very well with butter', '...</td>\n",
       "      <td>10.0</td>\n",
       "      <td>[grease a bread tin very well with butter, min...</td>\n",
       "    </tr>\n",
       "    <tr>\n",
       "      <th>29996</th>\n",
       "      <td>zwetschgenkuchen  bavarian plum cake</td>\n",
       "      <td>386977</td>\n",
       "      <td>240</td>\n",
       "      <td>177443</td>\n",
       "      <td>2009-08-24</td>\n",
       "      <td>NaN</td>\n",
       "      <td>['in a small bowl ', ' combine the yeast and h...</td>\n",
       "      <td>11.0</td>\n",
       "      <td>[in a small bowl ,  combine the yeast and half...</td>\n",
       "    </tr>\n",
       "    <tr>\n",
       "      <th>29997</th>\n",
       "      <td>zwiebelkuchen   southwest german onion cake</td>\n",
       "      <td>103312</td>\n",
       "      <td>75</td>\n",
       "      <td>161745</td>\n",
       "      <td>2004-11-03</td>\n",
       "      <td>NaN</td>\n",
       "      <td>['for the dough:', 'dissolve the yeast in the ...</td>\n",
       "      <td>NaN</td>\n",
       "      <td>[for the dough:, dissolve the yeast in the luk...</td>\n",
       "    </tr>\n",
       "    <tr>\n",
       "      <th>29998</th>\n",
       "      <td>zydeco soup</td>\n",
       "      <td>486161</td>\n",
       "      <td>60</td>\n",
       "      <td>227978</td>\n",
       "      <td>2012-08-29</td>\n",
       "      <td>NaN</td>\n",
       "      <td>['heat oil in a 4-quart dutch oven', 'add cele...</td>\n",
       "      <td>NaN</td>\n",
       "      <td>[heat oil in a 4-quart dutch oven, add celery ...</td>\n",
       "    </tr>\n",
       "    <tr>\n",
       "      <th>29999</th>\n",
       "      <td>cookies by design   cookies on a stick</td>\n",
       "      <td>298512</td>\n",
       "      <td>29</td>\n",
       "      <td>506822</td>\n",
       "      <td>2008-04-15</td>\n",
       "      <td>9.0</td>\n",
       "      <td>['place melted butter in a large mixing bowl a...</td>\n",
       "      <td>10.0</td>\n",
       "      <td>[place melted butter in a large mixing bowl an...</td>\n",
       "    </tr>\n",
       "  </tbody>\n",
       "</table>\n",
       "<p>30000 rows × 9 columns</p>\n",
       "</div>"
      ],
      "text/plain": [
       "                                               name      id  minutes  \\\n",
       "0             george s at the cove  black bean soup   44123       90   \n",
       "1                healthy for them  yogurt popsicles   67664       10   \n",
       "2                      i can t believe it s spinach   38798       30   \n",
       "3                              italian  gut busters   35173       45   \n",
       "4          love is in the air  beef fondue   sauces   84797       25   \n",
       "...                                             ...     ...      ...   \n",
       "29995  zurie s holey rustic olive and cheddar bread  267661       80   \n",
       "29996          zwetschgenkuchen  bavarian plum cake  386977      240   \n",
       "29997   zwiebelkuchen   southwest german onion cake  103312       75   \n",
       "29998                                   zydeco soup  486161       60   \n",
       "29999        cookies by design   cookies on a stick  298512       29   \n",
       "\n",
       "       contributor_id   submitted  n_steps  \\\n",
       "0               35193  2002-10-25      NaN   \n",
       "1               91970  2003-07-26      NaN   \n",
       "2                1533  2002-08-29      NaN   \n",
       "3               22724  2002-07-27      NaN   \n",
       "4                4470  2004-02-23      4.0   \n",
       "...               ...         ...      ...   \n",
       "29995          200862  2007-11-25     16.0   \n",
       "29996          177443  2009-08-24      NaN   \n",
       "29997          161745  2004-11-03      NaN   \n",
       "29998          227978  2012-08-29      NaN   \n",
       "29999          506822  2008-04-15      9.0   \n",
       "\n",
       "                                             description  n_ingredients  \\\n",
       "0      ['in 1 / 4 cup butter ', ' saute carrots ', ' ...           18.0   \n",
       "1      ['mix all the ingredients using a blender', 'p...            NaN   \n",
       "2      ['combine all ingredients in a large bowl and ...            8.0   \n",
       "3      ['lay out sandwich rolls on jelly roll pans / ...            NaN   \n",
       "4      ['honey mustard sauce: whisk all the ingredien...            NaN   \n",
       "...                                                  ...            ...   \n",
       "29995  ['grease a bread tin very well with butter', '...           10.0   \n",
       "29996  ['in a small bowl ', ' combine the yeast and h...           11.0   \n",
       "29997  ['for the dough:', 'dissolve the yeast in the ...            NaN   \n",
       "29998  ['heat oil in a 4-quart dutch oven', 'add cele...            NaN   \n",
       "29999  ['place melted butter in a large mixing bowl a...           10.0   \n",
       "\n",
       "                                                   steps  \n",
       "0      [in 1 / 4 cup butter ,  saute carrots ,  onion...  \n",
       "1      [mix all the ingredients using a blender, pour...  \n",
       "2      [combine all ingredients in a large bowl and m...  \n",
       "3      [lay out sandwich rolls on jelly roll pans / c...  \n",
       "4      [honey mustard sauce: whisk all the ingredient...  \n",
       "...                                                  ...  \n",
       "29995  [grease a bread tin very well with butter, min...  \n",
       "29996  [in a small bowl ,  combine the yeast and half...  \n",
       "29997  [for the dough:, dissolve the yeast in the luk...  \n",
       "29998  [heat oil in a 4-quart dutch oven, add celery ...  \n",
       "29999  [place melted butter in a large mixing bowl an...  \n",
       "\n",
       "[30000 rows x 9 columns]"
      ]
     },
     "execution_count": 10,
     "metadata": {},
     "output_type": "execute_result"
    }
   ],
   "source": [
    "import re\n",
    "from re import match\n",
    "x['description']=x['steps'].apply(str)\n",
    "x"
   ]
  },
  {
   "cell_type": "code",
   "execution_count": 11,
   "metadata": {},
   "outputs": [],
   "source": [
    "import re\n",
    "from re import match\n",
    "\n",
    "for i in range(x.shape[0]):\n",
    "        pattern = re.compile(r'^this[\\w\\s]*,?\\sbut')\n",
    "        match = re.search(pattern, x.iloc[i].description)\n",
    "        if match:\n",
    "            print(f'ID {x.iloc[i].id}   Описание  {x.iloc[i].description}')\n",
    "    "
   ]
  },
  {
   "cell_type": "markdown",
   "metadata": {},
   "source": [
    "5\\. В текстах шагов рецептов обыкновенные дроби имеют вид \"a / b\". Используя регулярные выражения, уберите в тексте шагов рецепта с id 72367 пробелы до и после символа дроби. Выведите на экран шаги этого рецепта после их изменения."
   ]
  },
  {
   "cell_type": "code",
   "execution_count": 12,
   "metadata": {},
   "outputs": [],
   "source": [
    "pd.options.mode.chained_assignment = None"
   ]
  },
  {
   "cell_type": "code",
   "execution_count": 1,
   "metadata": {},
   "outputs": [
    {
     "ename": "NameError",
     "evalue": "name 'x' is not defined",
     "output_type": "error",
     "traceback": [
      "\u001b[1;31m---------------------------------------------------------------------------\u001b[0m",
      "\u001b[1;31mNameError\u001b[0m                                 Traceback (most recent call last)",
      "Input \u001b[1;32mIn [1]\u001b[0m, in \u001b[0;36m<cell line: 1>\u001b[1;34m()\u001b[0m\n\u001b[1;32m----> 1\u001b[0m id5 \u001b[38;5;241m=\u001b[39m \u001b[43mx\u001b[49m[x[\u001b[38;5;124m'\u001b[39m\u001b[38;5;124mid\u001b[39m\u001b[38;5;124m'\u001b[39m]\u001b[38;5;241m==\u001b[39m\u001b[38;5;241m72367\u001b[39m]\u001b[38;5;241m.\u001b[39mindex\u001b[38;5;241m.\u001b[39mvalues[\u001b[38;5;241m0\u001b[39m]\n\u001b[0;32m      2\u001b[0m x5 \u001b[38;5;241m=\u001b[39m x\u001b[38;5;241m.\u001b[39mloc[id5:]\n\u001b[0;32m      4\u001b[0m \u001b[38;5;28;01mfor\u001b[39;00m i \u001b[38;5;129;01min\u001b[39;00m \u001b[38;5;28mrange\u001b[39m(id5,x5\u001b[38;5;241m.\u001b[39mshape[\u001b[38;5;241m0\u001b[39m]):\n",
      "\u001b[1;31mNameError\u001b[0m: name 'x' is not defined"
     ]
    }
   ],
   "source": [
    "id5 = x[x['id']==72367].index.values[0]\n",
    "x5 = x.loc[id5:]\n",
    "\n",
    "for i in range(id5,x5.shape[0]):\n",
    "    pattern = re.compile(r'(\\w+|\\d+)\\s/\\s(\\w+|\\d+)')\n",
    "    match = re.search(pattern, ('').join(x5.loc[i].steps))\n",
    "    if match:\n",
    "        x5.loc[i] = ('').join(x5.loc[i].steps).replace(' / ','/')\n",
    "#         print(f'ID {x5.loc[i].id}   Рецепт {x5.loc[i].steps}')\n",
    "#         print('\\n')"
   ]
  },
  {
   "cell_type": "code",
   "execution_count": 14,
   "metadata": {},
   "outputs": [
    {
     "data": {
      "text/plain": [
       "'mix butter  flour  1/3 csugar and 1-1/4 tvanillapress into greased 9\" springform panmix cream cheese  1/4 csugar  eggs and 1/2 tvanilla beating until fluffypour over doughcombine apples  1/3 csugar and cinnamonarrange on top of cream cheese mixture and sprinkle with almondsbake at 350 for 45-55 minutes  or until tester comes out clean'"
      ]
     },
     "execution_count": 14,
     "metadata": {},
     "output_type": "execute_result"
    }
   ],
   "source": [
    "x[x['id']==72367].steps.values[0]"
   ]
  },
  {
   "cell_type": "markdown",
   "metadata": {},
   "source": [
    "### Сегментация текста"
   ]
  },
  {
   "cell_type": "markdown",
   "metadata": {},
   "source": [
    "6\\. Разбейте тексты шагов рецептов на слова при помощи пакета `nltk`. Посчитайте и выведите на экран кол-во уникальных слов среди всех рецептов. Словом называется любая последовательность алфавитных символов (для проверки можно воспользоваться `str.isalpha`). При подсчете количества уникальных слов не учитывайте регистр."
   ]
  },
  {
   "cell_type": "code",
   "execution_count": 17,
   "metadata": {},
   "outputs": [],
   "source": [
    "import nltk"
   ]
  },
  {
   "cell_type": "code",
   "execution_count": 18,
   "metadata": {},
   "outputs": [
    {
     "name": "stdout",
     "output_type": "stream",
     "text": [
      "showing info https://raw.githubusercontent.com/nltk/nltk_data/gh-pages/index.xml\n"
     ]
    },
    {
     "name": "stderr",
     "output_type": "stream",
     "text": [
      "[nltk_data] Downloading package punkt to\n",
      "[nltk_data]     C:\\Users\\maria\\AppData\\Roaming\\nltk_data...\n",
      "[nltk_data]   Package punkt is already up-to-date!\n"
     ]
    },
    {
     "data": {
      "text/plain": [
       "True"
      ]
     },
     "execution_count": 18,
     "metadata": {},
     "output_type": "execute_result"
    }
   ],
   "source": [
    "nltk.download()\n",
    "nltk.download('punkt')"
   ]
  },
  {
   "cell_type": "code",
   "execution_count": 19,
   "metadata": {},
   "outputs": [
    {
     "name": "stdout",
     "output_type": "stream",
     "text": [
      "9232\n"
     ]
    }
   ],
   "source": [
    "from nltk.tokenize import word_tokenize\n",
    "steps=file.find_all('steps')\n",
    "s = ''\n",
    "for i in steps:\n",
    "    s+=i.text.lower()\n",
    "s.replace('\\n','')\n",
    "\n",
    "words = nltk.tokenize.word_tokenize(s)\n",
    "dict1 = nltk.FreqDist(words)\n",
    "\n",
    "dictionary = {word: freq for word, freq in dict1.items() if word.isalpha and freq ==1}\n",
    "dictionary\n",
    "print(len(dictionary))\n"
   ]
  },
  {
   "cell_type": "markdown",
   "metadata": {},
   "source": [
    "7\\. Разбейте описания рецептов из `recipes` на предложения при помощи пакета `nltk`. Найдите 5 самых длинных описаний (по количеству _предложений_) рецептов в датасете и выведите строки фрейма, соответствующие этим рецептами, в порядке убывания длины."
   ]
  },
  {
   "cell_type": "code",
   "execution_count": 21,
   "metadata": {
    "scrolled": false
   },
   "outputs": [
    {
     "name": "stdout",
     "output_type": "stream",
     "text": [
      "76\n"
     ]
    }
   ],
   "source": [
    "from nltk.tokenize import sent_tokenize\n",
    "maxi = 0\n",
    "maximum = []\n",
    "for i in range(recipes.shape[0]):\n",
    "    try:\n",
    "        x = len(sent_tokenize(recipes.loc[i].description))\n",
    "        if x>maxi:\n",
    "            maxi = x\n",
    "            maximum = []\n",
    "            maximum.append(i)\n",
    "        elif maxi==x:\n",
    "            maximum.append(i)\n",
    "    except:\n",
    "        pass\n",
    "print(maxi)     \n",
    "        "
   ]
  },
  {
   "cell_type": "code",
   "execution_count": 22,
   "metadata": {},
   "outputs": [
    {
     "name": "stdout",
     "output_type": "stream",
     "text": [
      "this wonderful icing is used for icing cakes and cookies as well as for borders and art work on cakes.  it makes a delicious filling also between the layers of cakes and under fondant icing.  you can make roses but it takes 3 or more days to dry them depending on the humidity. \r\n",
      "\r\n",
      "there are many versions of “buttercream” icing. some are made with eggs and all butter.  some varieties, you have to cook your sugar to a softball stage.  others are 100% shortening or a combination of shortening and butter.\r\n",
      "\r\n",
      "each decorator has his or her favorite.  i personally think that the best taste and textured recipe is the one that has you cook your sugar, add to whipped eggs and use pounds of butter per batch. but…. i live in a state that can easily be a 100 degrees for days on end during the summer and you know what butter does on hot days.  it melts!  a greasy puddle of melted icing on a cake plate is not something i want to look at or eat.  \r\n",
      "\r\n",
      "your top notch decorators have a few options we don’t.  they have huge refrigerators to store their cakes in, and refrigerated vehicles that they can use to deliver decorated cakes. i even know a few that refuse to deliver at all. if you want their cake, you come and get it and it’s your responsibility if it melts.  these decorators don’t even turn on their ovens for a wedding cake for less than $2000.  \r\n",
      "\r\n",
      "the following recipes for buttercream icing hold up pretty well in the heat and humidity, but if you know that your cake will be out in very high temperatures, then don’t use any butter and use only a high quality shortening.  \r\n",
      "\r\n",
      "shortening:  \r\n",
      "\r\n",
      "solid shortenings definitely have their place in baking. so i’m going to talk taste tests. crisco is the hands down winner. it has a clean taste with the melting point of 106 degrees. butter melts somewhere between 88 and 98 degrees f. depending on the amount of fat in the brand.  you can see that if you need to serve a pure buttercream decorated cake, on a hot august afternoon, you could have melted roses (and i do mean greasy puddles) on the tablecloth. this is when a good quality shortening will be a great blessing. i have been told by decorator friends that some of the warehouse brand shortenings leave a grainy consistency to the icing no matter what you do.  \r\n",
      "\r\n",
      "powdered (confectioner's) sugar:  \r\n",
      "\r\n",
      "regarding powdered sugar. please use a cane sugar. i prefer c&h powdered (confectioners) sugar.  many of the cheaper brands use sugar beets for their base.  i don’t know the chemistry behind it but you definitely get different textures to your icing that can vary from batch to batch.  i spent a few months being very frustrated with the quality of my icing until a kind lady did a bit of trouble shooting for me. she recommended the cane sugar and i’ve been blessing her ever since.\r\n",
      "\r\n",
      "top-quality brands:  \r\n",
      "\r\n",
      "please be safe, buy a quality brands and then stick with it for the best results. a friend of mine, who is a wonderful cook and baker, travels a lot and she often prepares treats for her hosts. she’s learned to ask the host to have her favorite shortening and flour on hand. she has even made up a little makeup type case that carries her favorite extracts and precious spices. that way she knows what she is working with, how it handles, and what tastes she can expect for the finished product. some surprises are not pleasant. \r\n",
      "\r\n",
      "storing buttercream icing: \r\n",
      "\r\n",
      "if you are not going to be using the icing right away, place it in a clean, sealable bowl. store it in the refrigerator but please don’t place it next to the marinating salmon, garlic or broccoli.  you do not want those flavors in your icing!  i like to use my icing within a few days but it will hold in the cold refrigerator for a couple of weeks if necessary.  \r\n",
      "\r\n",
      "i often make a double batch of icing the night before i have a baking project.  that way i know that i have plenty of icing, it’s fresh and i don’t have to make it while i’m in the middle of baking the cakes.  the extra can always be used for a batch of cupcakes.\r\n",
      "\r\n",
      "when you remove the icing from the refrigerator, you might notice that the icing has taken on a sponge like texture. do yourself a favor and place the icing in a bowl and mix by hand using a back and forth, smashing motion with a spoon or icing spatula. what you want to do is to smash the bubbles out of the icing. this extra step will help to give you the smoothest icing for a pretty top and sides of the cake. i have found that you will get an even better texture of icing if it is at room temperature before you try to do your icing.\r\n",
      "\r\n",
      "bad buttercream icing days:  \r\n",
      "\r\n",
      "one thing that seems very silly but is true. there are bad buttercream days! i’ve asked quite a few decorators about this and every one says “yes, there are lousy days”. i’m not sure what causes the problem. \r\n",
      "\r\n",
      "it could be that every human has bad days so they blame the buttercream. \r\n",
      "\r\n",
      "it may be the humidity or that there is a low pressure system hanging over your town. \r\n",
      "\r\n",
      "i just know why but it is a perceived fact. the way i have handled the problem is that i changed the decoration on the cake.  i couldn’t get the smooth top or sides as i originally planned. writing a greeting on a messy top would look awful so i changed the design idea and put flowers everywhere. i could have also done a basket weave technique around the sides. just go with the flow, and don’t get frustrated. aunt martha won’t chuck the cake at you if you don’t write her name on the top this time. remember that you are creating something that is to be eaten so have fun with it.  \r\n",
      "\r\n",
      "different mixers:\r\n",
      "\r\n",
      "if you have a heavy duty counter mixer, you can prepare a whole batch at one time.  if you are using a hand mixer, divide the recipe in half.  if you notice the mixer getting hot, please stop and let the machine cool off.\r\n",
      "\r\n",
      "i also prefer to mix the buttercream on a low setting. it seems that the higher setting do the job faster but you also will get a spongy texture to the icing. i don’t want that quality in my final ice coating or flowers on the cake. \r\n",
      "\r\n",
      "using weight scales:\r\n",
      "\r\n",
      "1 cup of crisco weighs 6 ounces.  \r\n",
      "\r\n",
      "i put a piece of wax paper on my scale and start plopping spoons of shortening on until i get the desired weight. it really saves on the cleanup.  \r\n",
      "\r\n",
      "\r\n",
      "\r\n",
      "recipe from peggy at whatscookingamerica.net\n"
     ]
    }
   ],
   "source": [
    "for j in maximum:\n",
    "    print((' ').join(list(recipes.loc[maximum].description.values)).rstrip())"
   ]
  },
  {
   "cell_type": "markdown",
   "metadata": {},
   "source": [
    "8\\. Напишите функцию, которая для заданного предложения выводит информацию о частях речи слов, входящих в предложение, в следующем виде:\n",
    "```\n",
    "PRP   VBD   DT      NNS     CC   VBD      NNS        RB   \n",
    " I  omitted the raspberries and added strawberries instead\n",
    "``` \n",
    "Для определения части речи слова можно воспользоваться `nltk.pos_tag`.\n",
    "\n",
    "Проверьте работоспособность функции на названии рецепта с id 241106.\n",
    "\n",
    "Обратите внимание, что часть речи должна находиться ровно посередине над соотвествующим словом, а между самими словами должен быть ровно один пробел.\n"
   ]
  },
  {
   "cell_type": "code",
   "execution_count": 23,
   "metadata": {},
   "outputs": [
    {
     "name": "stdout",
     "output_type": "stream",
     "text": [
      "PRP \n",
      " I  \n",
      "PRP   VBD   \n",
      " I  omitted \n",
      "PRP   VBD   DT  \n",
      " I  omitted the \n",
      "PRP   VBD   DT      NNS     \n",
      " I  omitted the raspberries \n",
      "PRP   VBD   DT      NNS     CC  \n",
      " I  omitted the raspberries and \n",
      "PRP   VBD   DT      NNS     CC   VBD  \n",
      " I  omitted the raspberries and added \n",
      "PRP   VBD   DT      NNS     CC   VBD      NNS      \n",
      " I  omitted the raspberries and added strawberries \n",
      "PRP   VBD   DT      NNS     CC   VBD      NNS        RB    \n",
      " I  omitted the raspberries and added strawberries instead \n",
      " DT   \n",
      "these \n",
      " DT   VBP \n",
      "these are \n",
      " DT   VBP DT \n",
      "these are a  \n",
      " DT   VBP DT   RB   \n",
      "these are a  really \n",
      " DT   VBP DT   RB    JJ  \n",
      "these are a  really good \n",
      " DT   VBP DT   RB    JJ   NN   \n",
      "these are a  really good quick \n",
      " DT   VBP DT   RB    JJ   NN    NN  \n",
      "these are a  really good quick meal \n",
      " DT   VBP DT   RB    JJ   NN    NN  TO \n",
      "these are a  really good quick meal to \n",
      " DT   VBP DT   RB    JJ   NN    NN  TO  VB  \n",
      "these are a  really good quick meal to make \n",
      " DT   VBP DT   RB    JJ   NN    NN  TO  VB  IN \n",
      "these are a  really good quick meal to make in \n",
      " DT   VBP DT   RB    JJ   NN    NN  TO  VB  IN DT  \n",
      "these are a  really good quick meal to make in the \n",
      " DT   VBP DT   RB    JJ   NN    NN  TO  VB  IN DT      NN     \n",
      "these are a  really good quick meal to make in the summertime \n",
      " DT   VBP DT   RB    JJ   NN    NN  TO  VB  IN DT      NN     WRB  \n",
      "these are a  really good quick meal to make in the summertime when \n",
      " DT   VBP DT   RB    JJ   NN    NN  TO  VB  IN DT      NN     WRB   JJ   \n",
      "these are a  really good quick meal to make in the summertime when local \n",
      " DT   VBP DT   RB    JJ   NN    NN  TO  VB  IN DT      NN     WRB   JJ    NNS  \n",
      "these are a  really good quick meal to make in the summertime when local farms \n",
      " DT   VBP DT   RB    JJ   NN    NN  TO  VB  IN DT      NN     WRB   JJ    NNS  VBP  \n",
      "these are a  really good quick meal to make in the summertime when local farms have \n",
      " DT   VBP DT   RB    JJ   NN    NN  TO  VB  IN DT      NN     WRB   JJ    NNS  VBP   JJ   \n",
      "these are a  really good quick meal to make in the summertime when local farms have fresh \n",
      " DT   VBP DT   RB    JJ   NN    NN  TO  VB  IN DT      NN     WRB   JJ    NNS  VBP   JJ      NN    \n",
      "these are a  really good quick meal to make in the summertime when local farms have fresh eggplant \n",
      " DT   VBP DT   RB    JJ   NN    NN  TO  VB  IN DT      NN     WRB   JJ    NNS  VBP   JJ      NN    CC  \n",
      "these are a  really good quick meal to make in the summertime when local farms have fresh eggplant and \n",
      " DT   VBP DT   RB    JJ   NN    NN  TO  VB  IN DT      NN     WRB   JJ    NNS  VBP   JJ      NN    CC    NNS    \n",
      "these are a  really good quick meal to make in the summertime when local farms have fresh eggplant and tomatoes \n",
      " DT   VBP DT   RB    JJ   NN    NN  TO  VB  IN DT      NN     WRB   JJ    NNS  VBP   JJ      NN    CC    NNS     VBG   \n",
      "these are a  really good quick meal to make in the summertime when local farms have fresh eggplant and tomatoes coming \n",
      " DT   VBP DT   RB    JJ   NN    NN  TO  VB  IN DT      NN     WRB   JJ    NNS  VBP   JJ      NN    CC    NNS     VBG   IN \n",
      "these are a  really good quick meal to make in the summertime when local farms have fresh eggplant and tomatoes coming in \n",
      " DT   VBP DT   RB    JJ   NN    NN  TO  VB  IN DT      NN     WRB   JJ    NNS  VBP   JJ      NN    CC    NNS     VBG   IN . \n",
      "these are a  really good quick meal to make in the summertime when local farms have fresh eggplant and tomatoes coming in . \n",
      " DT   VBP DT   RB    JJ   NN    NN  TO  VB  IN DT      NN     WRB   JJ    NNS  VBP   JJ      NN    CC    NNS     VBG   IN . DT  \n",
      "these are a  really good quick meal to make in the summertime when local farms have fresh eggplant and tomatoes coming in . the \n",
      " DT   VBP DT   RB    JJ   NN    NN  TO  VB  IN DT      NN     WRB   JJ    NNS  VBP   JJ      NN    CC    NNS     VBG   IN . DT    VBG   \n",
      "these are a  really good quick meal to make in the summertime when local farms have fresh eggplant and tomatoes coming in . the topping \n",
      " DT   VBP DT   RB    JJ   NN    NN  TO  VB  IN DT      NN     WRB   JJ    NNS  VBP   JJ      NN    CC    NNS     VBG   IN . DT    VBG    VBN  \n",
      "these are a  really good quick meal to make in the summertime when local farms have fresh eggplant and tomatoes coming in . the topping given \n",
      " DT   VBP DT   RB    JJ   NN    NN  TO  VB  IN DT      NN     WRB   JJ    NNS  VBP   JJ      NN    CC    NNS     VBG   IN . DT    VBG    VBN  VBZ \n",
      "these are a  really good quick meal to make in the summertime when local farms have fresh eggplant and tomatoes coming in . the topping given is  \n",
      " DT   VBP DT   RB    JJ   NN    NN  TO  VB  IN DT      NN     WRB   JJ    NNS  VBP   JJ      NN    CC    NNS     VBG   IN . DT    VBG    VBN  VBZ DT \n",
      "these are a  really good quick meal to make in the summertime when local farms have fresh eggplant and tomatoes coming in . the topping given is  a  \n",
      " DT   VBP DT   RB    JJ   NN    NN  TO  VB  IN DT      NN     WRB   JJ    NNS  VBP   JJ      NN    CC    NNS     VBG   IN . DT    VBG    VBN  VBZ DT     NN     \n",
      "these are a  really good quick meal to make in the summertime when local farms have fresh eggplant and tomatoes coming in . the topping given is  a  suggestion \n",
      " DT   VBP DT   RB    JJ   NN    NN  TO  VB  IN DT      NN     WRB   JJ    NNS  VBP   JJ      NN    CC    NNS     VBG   IN . DT    VBG    VBN  VBZ DT     NN     , \n",
      "these are a  really good quick meal to make in the summertime when local farms have fresh eggplant and tomatoes coming in . the topping given is  a  suggestion , \n",
      " DT   VBP DT   RB    JJ   NN    NN  TO  VB  IN DT      NN     WRB   JJ    NNS  VBP   JJ      NN    CC    NNS     VBG   IN . DT    VBG    VBN  VBZ DT     NN     , CC  \n",
      "these are a  really good quick meal to make in the summertime when local farms have fresh eggplant and tomatoes coming in . the topping given is  a  suggestion , but \n",
      " DT   VBP DT   RB    JJ   NN    NN  TO  VB  IN DT      NN     WRB   JJ    NNS  VBP   JJ      NN    CC    NNS     VBG   IN . DT    VBG    VBN  VBZ DT     NN     , CC   EX   \n",
      "these are a  really good quick meal to make in the summertime when local farms have fresh eggplant and tomatoes coming in . the topping given is  a  suggestion , but there \n",
      " DT   VBP DT   RB    JJ   NN    NN  TO  VB  IN DT      NN     WRB   JJ    NNS  VBP   JJ      NN    CC    NNS     VBG   IN . DT    VBG    VBN  VBZ DT     NN     , CC   EX   VBP \n",
      "these are a  really good quick meal to make in the summertime when local farms have fresh eggplant and tomatoes coming in . the topping given is  a  suggestion , but there are \n",
      " DT   VBP DT   RB    JJ   NN    NN  TO  VB  IN DT      NN     WRB   JJ    NNS  VBP   JJ      NN    CC    NNS     VBG   IN . DT    VBG    VBN  VBZ DT     NN     , CC   EX   VBP    RB     \n",
      "these are a  really good quick meal to make in the summertime when local farms have fresh eggplant and tomatoes coming in . the topping given is  a  suggestion , but there are certainly \n",
      " DT   VBP DT   RB    JJ   NN    NN  TO  VB  IN DT      NN     WRB   JJ    NNS  VBP   JJ      NN    CC    NNS     VBG   IN . DT    VBG    VBN  VBZ DT     NN     , CC   EX   VBP    RB      JJ  \n",
      "these are a  really good quick meal to make in the summertime when local farms have fresh eggplant and tomatoes coming in . the topping given is  a  suggestion , but there are certainly many \n",
      " DT   VBP DT   RB    JJ   NN    NN  TO  VB  IN DT      NN     WRB   JJ    NNS  VBP   JJ      NN    CC    NNS     VBG   IN . DT    VBG    VBN  VBZ DT     NN     , CC   EX   VBP    RB      JJ  JJR  \n",
      "these are a  really good quick meal to make in the summertime when local farms have fresh eggplant and tomatoes coming in . the topping given is  a  suggestion , but there are certainly many more \n",
      " DT   VBP DT   RB    JJ   NN    NN  TO  VB  IN DT      NN     WRB   JJ    NNS  VBP   JJ      NN    CC    NNS     VBG   IN . DT    VBG    VBN  VBZ DT     NN     , CC   EX   VBP    RB      JJ  JJR  NNS  \n",
      "these are a  really good quick meal to make in the summertime when local farms have fresh eggplant and tomatoes coming in . the topping given is  a  suggestion , but there are certainly many more ways \n",
      " DT   VBP DT   RB    JJ   NN    NN  TO  VB  IN DT      NN     WRB   JJ    NNS  VBP   JJ      NN    CC    NNS     VBG   IN . DT    VBG    VBN  VBZ DT     NN     , CC   EX   VBP    RB      JJ  JJR  NNS  TO \n",
      "these are a  really good quick meal to make in the summertime when local farms have fresh eggplant and tomatoes coming in . the topping given is  a  suggestion , but there are certainly many more ways to \n",
      " DT   VBP DT   RB    JJ   NN    NN  TO  VB  IN DT      NN     WRB   JJ    NNS  VBP   JJ      NN    CC    NNS     VBG   IN . DT    VBG    VBN  VBZ DT     NN     , CC   EX   VBP    RB      JJ  JJR  NNS  TO  VB   \n",
      "these are a  really good quick meal to make in the summertime when local farms have fresh eggplant and tomatoes coming in . the topping given is  a  suggestion , but there are certainly many more ways to enjoy \n",
      " DT   VBP DT   RB    JJ   NN    NN  TO  VB  IN DT      NN     WRB   JJ    NNS  VBP   JJ      NN    CC    NNS     VBG   IN . DT    VBG    VBN  VBZ DT     NN     , CC   EX   VBP    RB      JJ  JJR  NNS  TO  VB    DT  \n",
      "these are a  really good quick meal to make in the summertime when local farms have fresh eggplant and tomatoes coming in . the topping given is  a  suggestion , but there are certainly many more ways to enjoy this \n",
      " DT   VBP DT   RB    JJ   NN    NN  TO  VB  IN DT      NN     WRB   JJ    NNS  VBP   JJ      NN    CC    NNS     VBG   IN . DT    VBG    VBN  VBZ DT     NN     , CC   EX   VBP    RB      JJ  JJR  NNS  TO  VB    DT   NN  \n",
      "these are a  really good quick meal to make in the summertime when local farms have fresh eggplant and tomatoes coming in . the topping given is  a  suggestion , but there are certainly many more ways to enjoy this dish \n",
      " DT   VBP DT   RB    JJ   NN    NN  TO  VB  IN DT      NN     WRB   JJ    NNS  VBP   JJ      NN    CC    NNS     VBG   IN . DT    VBG    VBN  VBZ DT     NN     , CC   EX   VBP    RB      JJ  JJR  NNS  TO  VB    DT   NN  . \n",
      "these are a  really good quick meal to make in the summertime when local farms have fresh eggplant and tomatoes coming in . the topping given is  a  suggestion , but there are certainly many more ways to enjoy this dish . \n",
      " DT   VBP DT   RB    JJ   NN    NN  TO  VB  IN DT      NN     WRB   JJ    NNS  VBP   JJ      NN    CC    NNS     VBG   IN . DT    VBG    VBN  VBZ DT     NN     , CC   EX   VBP    RB      JJ  JJR  NNS  TO  VB    DT   NN  .  VB   \n",
      "these are a  really good quick meal to make in the summertime when local farms have fresh eggplant and tomatoes coming in . the topping given is  a  suggestion , but there are certainly many more ways to enjoy this dish . start \n",
      " DT   VBP DT   RB    JJ   NN    NN  TO  VB  IN DT      NN     WRB   JJ    NNS  VBP   JJ      NN    CC    NNS     VBG   IN . DT    VBG    VBN  VBZ DT     NN     , CC   EX   VBP    RB      JJ  JJR  NNS  TO  VB    DT   NN  .  VB   IN  \n",
      "these are a  really good quick meal to make in the summertime when local farms have fresh eggplant and tomatoes coming in . the topping given is  a  suggestion , but there are certainly many more ways to enjoy this dish . start out \n",
      " DT   VBP DT   RB    JJ   NN    NN  TO  VB  IN DT      NN     WRB   JJ    NNS  VBP   JJ      NN    CC    NNS     VBG   IN . DT    VBG    VBN  VBZ DT     NN     , CC   EX   VBP    RB      JJ  JJR  NNS  TO  VB    DT   NN  .  VB   IN   IN  \n",
      "these are a  really good quick meal to make in the summertime when local farms have fresh eggplant and tomatoes coming in . the topping given is  a  suggestion , but there are certainly many more ways to enjoy this dish . start out with \n",
      " DT   VBP DT   RB    JJ   NN    NN  TO  VB  IN DT      NN     WRB   JJ    NNS  VBP   JJ      NN    CC    NNS     VBG   IN . DT    VBG    VBN  VBZ DT     NN     , CC   EX   VBP    RB      JJ  JJR  NNS  TO  VB    DT   NN  .  VB   IN   IN  DT  \n",
      "these are a  really good quick meal to make in the summertime when local farms have fresh eggplant and tomatoes coming in . the topping given is  a  suggestion , but there are certainly many more ways to enjoy this dish . start out with the \n",
      " DT   VBP DT   RB    JJ   NN    NN  TO  VB  IN DT      NN     WRB   JJ    NNS  VBP   JJ      NN    CC    NNS     VBG   IN . DT    VBG    VBN  VBZ DT     NN     , CC   EX   VBP    RB      JJ  JJR  NNS  TO  VB    DT   NN  .  VB   IN   IN  DT     JJ    \n",
      "these are a  really good quick meal to make in the summertime when local farms have fresh eggplant and tomatoes coming in . the topping given is  a  suggestion , but there are certainly many more ways to enjoy this dish . start out with the eggplant \n",
      " DT   VBP DT   RB    JJ   NN    NN  TO  VB  IN DT      NN     WRB   JJ    NNS  VBP   JJ      NN    CC    NNS     VBG   IN . DT    VBG    VBN  VBZ DT     NN     , CC   EX   VBP    RB      JJ  JJR  NNS  TO  VB    DT   NN  .  VB   IN   IN  DT     JJ     NNS   \n",
      "these are a  really good quick meal to make in the summertime when local farms have fresh eggplant and tomatoes coming in . the topping given is  a  suggestion , but there are certainly many more ways to enjoy this dish . start out with the eggplant steaks \n",
      " DT   VBP DT   RB    JJ   NN    NN  TO  VB  IN DT      NN     WRB   JJ    NNS  VBP   JJ      NN    CC    NNS     VBG   IN . DT    VBG    VBN  VBZ DT     NN     , CC   EX   VBP    RB      JJ  JJR  NNS  TO  VB    DT   NN  .  VB   IN   IN  DT     JJ     NNS   CC  \n",
      "these are a  really good quick meal to make in the summertime when local farms have fresh eggplant and tomatoes coming in . the topping given is  a  suggestion , but there are certainly many more ways to enjoy this dish . start out with the eggplant steaks and \n",
      " DT   VBP DT   RB    JJ   NN    NN  TO  VB  IN DT      NN     WRB   JJ    NNS  VBP   JJ      NN    CC    NNS     VBG   IN . DT    VBG    VBN  VBZ DT     NN     , CC   EX   VBP    RB      JJ  JJR  NNS  TO  VB    DT   NN  .  VB   IN   IN  DT     JJ     NNS   CC   RB  \n",
      "these are a  really good quick meal to make in the summertime when local farms have fresh eggplant and tomatoes coming in . the topping given is  a  suggestion , but there are certainly many more ways to enjoy this dish . start out with the eggplant steaks and then \n",
      " DT   VBP DT   RB    JJ   NN    NN  TO  VB  IN DT      NN     WRB   JJ    NNS  VBP   JJ      NN    CC    NNS     VBG   IN . DT    VBG    VBN  VBZ DT     NN     , CC   EX   VBP    RB      JJ  JJR  NNS  TO  VB    DT   NN  .  VB   IN   IN  DT     JJ     NNS   CC   RB  VB  \n",
      "these are a  really good quick meal to make in the summertime when local farms have fresh eggplant and tomatoes coming in . the topping given is  a  suggestion , but there are certainly many more ways to enjoy this dish . start out with the eggplant steaks and then top \n",
      " DT   VBP DT   RB    JJ   NN    NN  TO  VB  IN DT      NN     WRB   JJ    NNS  VBP   JJ      NN    CC    NNS     VBG   IN . DT    VBG    VBN  VBZ DT     NN     , CC   EX   VBP    RB      JJ  JJR  NNS  TO  VB    DT   NN  .  VB   IN   IN  DT     JJ     NNS   CC   RB  VB   IN  \n",
      "these are a  really good quick meal to make in the summertime when local farms have fresh eggplant and tomatoes coming in . the topping given is  a  suggestion , but there are certainly many more ways to enjoy this dish . start out with the eggplant steaks and then top with \n",
      " DT   VBP DT   RB    JJ   NN    NN  TO  VB  IN DT      NN     WRB   JJ    NNS  VBP   JJ      NN    CC    NNS     VBG   IN . DT    VBG    VBN  VBZ DT     NN     , CC   EX   VBP    RB      JJ  JJR  NNS  TO  VB    DT   NN  .  VB   IN   IN  DT     JJ     NNS   CC   RB  VB   IN   WP  \n",
      "these are a  really good quick meal to make in the summertime when local farms have fresh eggplant and tomatoes coming in . the topping given is  a  suggestion , but there are certainly many more ways to enjoy this dish . start out with the eggplant steaks and then top with what \n",
      " DT   VBP DT   RB    JJ   NN    NN  TO  VB  IN DT      NN     WRB   JJ    NNS  VBP   JJ      NN    CC    NNS     VBG   IN . DT    VBG    VBN  VBZ DT     NN     , CC   EX   VBP    RB      JJ  JJR  NNS  TO  VB    DT   NN  .  VB   IN   IN  DT     JJ     NNS   CC   RB  VB   IN   WP   VBZ   \n",
      "these are a  really good quick meal to make in the summertime when local farms have fresh eggplant and tomatoes coming in . the topping given is  a  suggestion , but there are certainly many more ways to enjoy this dish . start out with the eggplant steaks and then top with what sounds \n",
      " DT   VBP DT   RB    JJ   NN    NN  TO  VB  IN DT      NN     WRB   JJ    NNS  VBP   JJ      NN    CC    NNS     VBG   IN . DT    VBG    VBN  VBZ DT     NN     , CC   EX   VBP    RB      JJ  JJR  NNS  TO  VB    DT   NN  .  VB   IN   IN  DT     JJ     NNS   CC   RB  VB   IN   WP   VBZ    JJ  \n",
      "these are a  really good quick meal to make in the summertime when local farms have fresh eggplant and tomatoes coming in . the topping given is  a  suggestion , but there are certainly many more ways to enjoy this dish . start out with the eggplant steaks and then top with what sounds good \n",
      " DT   VBP DT   RB    JJ   NN    NN  TO  VB  IN DT      NN     WRB   JJ    NNS  VBP   JJ      NN    CC    NNS     VBG   IN . DT    VBG    VBN  VBZ DT     NN     , CC   EX   VBP    RB      JJ  JJR  NNS  TO  VB    DT   NN  .  VB   IN   IN  DT     JJ     NNS   CC   RB  VB   IN   WP   VBZ    JJ  TO \n",
      "these are a  really good quick meal to make in the summertime when local farms have fresh eggplant and tomatoes coming in . the topping given is  a  suggestion , but there are certainly many more ways to enjoy this dish . start out with the eggplant steaks and then top with what sounds good to \n",
      " DT   VBP DT   RB    JJ   NN    NN  TO  VB  IN DT      NN     WRB   JJ    NNS  VBP   JJ      NN    CC    NNS     VBG   IN . DT    VBG    VBN  VBZ DT     NN     , CC   EX   VBP    RB      JJ  JJR  NNS  TO  VB    DT   NN  .  VB   IN   IN  DT     JJ     NNS   CC   RB  VB   IN   WP   VBZ    JJ  TO PRP \n",
      "these are a  really good quick meal to make in the summertime when local farms have fresh eggplant and tomatoes coming in . the topping given is  a  suggestion , but there are certainly many more ways to enjoy this dish . start out with the eggplant steaks and then top with what sounds good to you \n",
      " DT   VBP DT   RB    JJ   NN    NN  TO  VB  IN DT      NN     WRB   JJ    NNS  VBP   JJ      NN    CC    NNS     VBG   IN . DT    VBG    VBN  VBZ DT     NN     , CC   EX   VBP    RB      JJ  JJR  NNS  TO  VB    DT   NN  .  VB   IN   IN  DT     JJ     NNS   CC   RB  VB   IN   WP   VBZ    JJ  TO PRP . \n",
      "these are a  really good quick meal to make in the summertime when local farms have fresh eggplant and tomatoes coming in . the topping given is  a  suggestion , but there are certainly many more ways to enjoy this dish . start out with the eggplant steaks and then top with what sounds good to you . \n"
     ]
    }
   ],
   "source": [
    "from nltk import pos_tag, word_tokenize\n",
    "\n",
    "def f(strr):\n",
    "    sentence = nltk.tokenize.word_tokenize(strr)\n",
    "    f = ''\n",
    "    f1 = ''\n",
    "    part_of_speech =  [j[1] for j in pos_tag(word_tokenize(strr))]\n",
    "\n",
    "    for i in range(len(sentence)):\n",
    "        d =max(len(sentence[i]),len(part_of_speech[i])) \n",
    "        f1+=f'{sentence[i]:^{d}}'+' '\n",
    "        f+=f'{part_of_speech[i]:^{d}}'+' '\n",
    "        print(f)\n",
    "        print(f1)\n",
    "    \n",
    "    \n",
    "f(' I  omitted the raspberries and added strawberries instead')\n",
    "f((' ').join(list(recipes[recipes['id']==241106].description.values)))"
   ]
  },
  {
   "cell_type": "code",
   "execution_count": null,
   "metadata": {},
   "outputs": [],
   "source": []
  },
  {
   "cell_type": "code",
   "execution_count": null,
   "metadata": {},
   "outputs": [],
   "source": []
  },
  {
   "cell_type": "code",
   "execution_count": null,
   "metadata": {},
   "outputs": [],
   "source": []
  },
  {
   "cell_type": "code",
   "execution_count": null,
   "metadata": {},
   "outputs": [],
   "source": []
  },
  {
   "cell_type": "code",
   "execution_count": null,
   "metadata": {},
   "outputs": [],
   "source": []
  },
  {
   "cell_type": "code",
   "execution_count": null,
   "metadata": {},
   "outputs": [],
   "source": []
  }
 ],
 "metadata": {
  "kernelspec": {
   "display_name": "Python 3 (ipykernel)",
   "language": "python",
   "name": "python3"
  },
  "language_info": {
   "codemirror_mode": {
    "name": "ipython",
    "version": 3
   },
   "file_extension": ".py",
   "mimetype": "text/x-python",
   "name": "python",
   "nbconvert_exporter": "python",
   "pygments_lexer": "ipython3",
   "version": "3.9.12"
  }
 },
 "nbformat": 4,
 "nbformat_minor": 4
}
